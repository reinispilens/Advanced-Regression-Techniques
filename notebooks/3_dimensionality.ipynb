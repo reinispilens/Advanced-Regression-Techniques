{
 "cells": [],
 "metadata": {
  "kernelspec": {
   "display_name": "nightly-env",
   "language": "python",
   "name": "python3"
  },
  "language_info": {
   "name": "python",
   "version": "3.10.8 | packaged by conda-forge | (main, Nov 22 2022, 08:26:04) [GCC 10.4.0]"
  },
  "orig_nbformat": 4,
  "vscode": {
   "interpreter": {
    "hash": "191a0500f25484430c7aad1a9323aeb602c32d6171746e97eb0830e5c8b0f62c"
   }
  }
 },
 "nbformat": 4,
 "nbformat_minor": 2
}
