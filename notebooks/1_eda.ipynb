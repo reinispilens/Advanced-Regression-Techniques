{
 "cells": [
  {
   "attachments": {},
   "cell_type": "markdown",
   "metadata": {},
   "source": [
    "## Exploratory data analysis\n",
    "\n",
    "The inspection of data is an essential step in the data analysis process, as it enables a comprehensive understanding of the characteristics of the dataset, identification of any inconsistencies or issues.\n",
    "\n",
    "There are a variety of methods that can be employed to inspect data, such as:\n",
    "\n",
    "* Examining the data types: It is essential to ensure that all variables are represented in the appropriate data type. This includes ensuring numerical variables are stored as integers or floats, and categorical variables are stored as strings or factors.\n",
    "\n",
    "* Examination of missing values: A thorough examination for missing or null values in the dataset is necessary. Missing values can pose challenges when building machine learning models, thus it is crucial to identify and handle them appropriately.\n",
    "\n",
    "* Analysis of data distribution: Visualization of the distribution of variables through histograms or box plots is a valuable method to identify outliers or skewed distributions that may require special handling or transformation.\n",
    "\n",
    "* Examining the relationships between variables: Scatterplots or correlation analysis can be used to identify relationships between variables. This can assist in identifying potential multicollinearity/redundancy problems with variables.\n",
    "\n",
    "This notebooks is dedicated for data exploration where i will create data profiling reports for train and test datasets and comparison between them."
   ]
  },
  {
   "cell_type": "code",
   "execution_count": null,
   "metadata": {},
   "outputs": [],
   "source": [
    "import numpy as np\n",
    "import pandas as pd\n",
    "from pandas_profiling import ProfileReport\n",
    "import matplotlib.pyplot as plt"
   ]
  },
  {
   "cell_type": "code",
   "execution_count": null,
   "metadata": {},
   "outputs": [],
   "source": [
    "train = pd.read_csv('../data/train.csv')\n",
    "test = pd.read_csv('../data/test.csv')"
   ]
  },
  {
   "cell_type": "code",
   "execution_count": null,
   "metadata": {},
   "outputs": [],
   "source": [
    "numerical_data = train.select_dtypes(\"number\")\n",
    "numerical_data.info()"
   ]
  },
  {
   "cell_type": "code",
   "execution_count": null,
   "metadata": {},
   "outputs": [],
   "source": [
    "categorical = train.select_dtypes(object)\n",
    "categorical.info()"
   ]
  },
  {
   "cell_type": "code",
   "execution_count": null,
   "metadata": {},
   "outputs": [],
   "source": [
    "# Feature separation:\n",
    "discrete = ['YearBuilt', 'YearRemodAdd','BsmtFullBath', 'BsmtHalfBath', 'FullBath', 'HalfBath',\n",
    "            'BedroomAbvGr', 'KitchenAbvGr','TotRmsAbvGrd','Fireplaces', 'GarageYrBlt','GarageCars', \n",
    "            'MoSold', 'YrSold', 'OverallQual', 'OverallCond']\n",
    "\n",
    "continuous = ['LotFrontage', 'LotArea','MasVnrArea','BsmtFinSF1',  'BsmtFinSF2', 'BsmtUnfSF', \n",
    "              'TotalBsmtSF','1stFlrSF', '2ndFlrSF', 'LowQualFinSF','GrLivArea', 'GarageArea',  \n",
    "              'WoodDeckSF', 'OpenPorchSF', 'EnclosedPorch', '3SsnPorch','ScreenPorch', 'PoolArea', \n",
    "              'MiscVal']\n",
    "\n",
    "nominal = ['MSSubClass','MSZoning', 'Alley',  'LandContour','LotConfig',   'Neighborhood', \n",
    "           'Condition1', 'Condition2', 'BldgType', 'HouseStyle','RoofStyle','RoofMatl', 'Exterior1st',\n",
    "           'Exterior2nd', 'MasVnrType',  'Foundation','Heating',  'CentralAir',  'GarageType','MiscFeature',\n",
    "           'SaleType', 'SaleCondition']\n",
    "\n",
    "ordinal = ['LotShape', 'LandSlope',  'ExterQual', 'ExterCond', 'BsmtQual', 'BsmtCond',\n",
    "           'BsmtExposure', 'BsmtFinType1', 'BsmtFinType2','HeatingQC', 'Electrical','KitchenQual', \n",
    "           'Functional','FireplaceQu', 'GarageFinish', 'GarageQual','GarageCond','PavedDrive', \n",
    "           'PoolQC', 'Fence']"
   ]
  },
  {
   "cell_type": "code",
   "execution_count": null,
   "metadata": {},
   "outputs": [],
   "source": [
    "# Train report\n",
    "train_profile = ProfileReport(\n",
    "    train, \n",
    "    title=\"EDA report for training dataset\",\n",
    "    correlations={\n",
    "        \"phi_k\": {\"calculate\": True},\n",
    "    },\n",
    "    )\n",
    "train_profile.to_notebook_iframe()\n",
    "train_profile.to_file(\"../reports/train_dataframe_eda.html\")"
   ]
  },
  {
   "cell_type": "code",
   "execution_count": null,
   "metadata": {},
   "outputs": [],
   "source": [
    "# Test report\n",
    "test_profile = ProfileReport(\n",
    "    test, \n",
    "    title=\"EDA report for test dataset\",\n",
    "    correlations={\n",
    "        \"phi_k\": {\"calculate\": True},\n",
    "        },\n",
    "    )\n",
    "test_profile.to_notebook_iframe()\n",
    "#train_profile.to_widgets()\n",
    "test_profile.to_file(\"../reports/test_dataframe_eda.html\")"
   ]
  },
  {
   "cell_type": "code",
   "execution_count": null,
   "metadata": {},
   "outputs": [],
   "source": [
    "# Comparison of test and train reports\n",
    "comparison_report = train_profile.compare(test_profile)\n",
    "comparison_report.to_file(\"../reports/comparison.html\")"
   ]
  },
  {
   "attachments": {},
   "cell_type": "markdown",
   "metadata": {},
   "source": [
    "### Key conclusions:\n",
    "\n",
    "* The target variable, sale price, reveals a right-skewed distribution. This indicates that a small proportion of data points exhibit a much higher value compared to the majority of the observations. This can be visualized in the histogram, where the peak is inclined towards the left, and there is a long tail towards the right. The right-skewness implies that the house prices are not normally distributed, as it deviates from the bell-shaped curve. Such deviation can have an impact on the results of certain statistical methods. It is acknowledged that skewness in real-world data is not an uncommon phenomenon. To mitigate the effect of skewness, various mathematical techniques, such as power transforms, including logarithmic, square root, and reciprocal transformations, can be applied to the data to make it conform to a normal distribution. Also, some of the features exhibit non-linear relationship towards target variable and requires transformation. \n",
    "\n",
    "* The dataset is heterogeneous, comprising both numeric and categorical data types. In total, the dataset comprises 79 features and 1460 samples. However, it should be noted that certain features within the dataset have missing values.\n",
    "\n",
    "* A key observation is that some features appears to exhibit high levels of correlation, which raises concerns regarding multicollinearity. Multicollinearity refers to the scenario where two or more predictor variables are highly correlated, and as a result decrease models stability.\n",
    "\n",
    "* Furthermore, some features may have low variance, indicating that the values for these features do not vary significantly across the dataset. These features may not contribute new information and their presence will not improve predictive power. \n",
    "\n",
    "* Many of the numerical features are represented with integer values, which means that these features can be divided into continuous and discrete categories. It is important to note that some features, such as OverallQl, have been pre-encoded as ordinal object features.\n"
   ]
  },
  {
   "attachments": {},
   "cell_type": "markdown",
   "metadata": {},
   "source": [
    "#### Detailed look at missing values"
   ]
  },
  {
   "cell_type": "code",
   "execution_count": null,
   "metadata": {},
   "outputs": [],
   "source": [
    "missing = train.isnull().sum()\n",
    "missing = missing[missing > 0]\n",
    "missing.plot.bar()\n",
    "plt.xlabel(\"Features\")\n",
    "plt.ylabel(\"Number of missing values\")\n",
    "plt.title(\"Missing values\")\n",
    "plt.show()"
   ]
  },
  {
   "cell_type": "code",
   "execution_count": null,
   "metadata": {},
   "outputs": [],
   "source": [
    "numerical_data.loc[:,numerical_data.isnull().sum()>0].head(5)"
   ]
  },
  {
   "cell_type": "code",
   "execution_count": null,
   "metadata": {},
   "outputs": [],
   "source": [
    "train[nominal].loc[:,train[nominal].isnull().sum()>0].head(5)"
   ]
  },
  {
   "cell_type": "code",
   "execution_count": null,
   "metadata": {},
   "outputs": [],
   "source": [
    "train[ordinal].loc[:,train[ordinal].isnull().sum()>0].head(5)"
   ]
  },
  {
   "attachments": {},
   "cell_type": "markdown",
   "metadata": {},
   "source": [
    "* It can be inferred that the majority of missing values observed in the dataset are a result of the absence of the respective feature in the given sample. This is evident in the case of numeric and nominal variables such as 'LotFrontage', 'MasVnrArea', 'GarageYrBlt' 'Alley', 'MasVnrType','GarageType', 'MiscFeature, as well as for ordinal variables such as 'BsmtQual', 'BsmtCond', 'BsmtExposure', 'BsmtFinType1', 'BsmtFinType2'. However, the missing value for one row in the variable 'Electrical' is peculiar and would require further examination or exclusion of this sample."
   ]
  }
 ],
 "metadata": {
  "kernelspec": {
   "display_name": "base",
   "language": "python",
   "name": "python3"
  },
  "language_info": {
   "codemirror_mode": {
    "name": "ipython",
    "version": 3
   },
   "file_extension": ".py",
   "mimetype": "text/x-python",
   "name": "python",
   "nbconvert_exporter": "python",
   "pygments_lexer": "ipython3",
   "version": "3.10.8 | packaged by conda-forge | (main, Nov 24 2022, 14:07:00) [MSC v.1916 64 bit (AMD64)]"
  },
  "orig_nbformat": 4,
  "vscode": {
   "interpreter": {
    "hash": "b45547512723ac4709c08bdd276af49db375effeefa4f15fbf5c13174536d90f"
   }
  }
 },
 "nbformat": 4,
 "nbformat_minor": 2
}
