{
 "cells": [
  {
   "cell_type": "code",
   "execution_count": 23,
   "metadata": {},
   "outputs": [],
   "source": [
    "import numpy as np\n",
    "import pandas as pd\n",
    "from pandas_profiling import ProfileReport\n",
    "import matplotlib.pyplot as plt"
   ]
  },
  {
   "attachments": {},
   "cell_type": "markdown",
   "metadata": {},
   "source": [
    "## Exploratory data analysis\n",
    "\n",
    "The inspection of data is an essential step in the data analysis process, as it enables a comprehensive understanding of the characteristics of the dataset, identification of any inconsistencies or issues.\n",
    "\n",
    "There are a variety of methods that can be employed to inspect data, such as:\n",
    "\n",
    "* Examining the data types: It is essential to ensure that all variables are represented in the appropriate data type. This includes ensuring numerical variables are stored as integers or floats, and categorical variables are stored as strings or factors.\n",
    "\n",
    "* Examination of missing values: A thorough examination for missing or null values in the dataset is necessary. Missing values can pose challenges when building machine learning models, thus it is crucial to identify and handle them appropriately.\n",
    "\n",
    "* Analysis of data distribution: Visualization of the distribution of variables through histograms or box plots is a valuable method to identify outliers or skewed distributions that may require special handling or transformation.\n",
    "\n",
    "* Examining the relationships between variables: Scatterplots or correlation analysis can be used to identify relationships between variables. This can assist in identifying potential multicollinearity/redundancy problems with variables.\n",
    "\n",
    "This notebooks is dedicated for data exploration where i will create data profiling reports for train and test datasets and comparison between them."
   ]
  },
  {
   "cell_type": "code",
   "execution_count": 12,
   "metadata": {},
   "outputs": [],
   "source": [
    "train = pd.read_csv('../data/train.csv')\n",
    "test = pd.read_csv('../data/test.csv')"
   ]
  },
  {
   "cell_type": "code",
   "execution_count": 13,
   "metadata": {},
   "outputs": [
    {
     "name": "stdout",
     "output_type": "stream",
     "text": [
      "<class 'pandas.core.frame.DataFrame'>\n",
      "RangeIndex: 1460 entries, 0 to 1459\n",
      "Data columns (total 38 columns):\n",
      " #   Column         Non-Null Count  Dtype  \n",
      "---  ------         --------------  -----  \n",
      " 0   Id             1460 non-null   int64  \n",
      " 1   MSSubClass     1460 non-null   int64  \n",
      " 2   LotFrontage    1201 non-null   float64\n",
      " 3   LotArea        1460 non-null   int64  \n",
      " 4   OverallQual    1460 non-null   int64  \n",
      " 5   OverallCond    1460 non-null   int64  \n",
      " 6   YearBuilt      1460 non-null   int64  \n",
      " 7   YearRemodAdd   1460 non-null   int64  \n",
      " 8   MasVnrArea     1452 non-null   float64\n",
      " 9   BsmtFinSF1     1460 non-null   int64  \n",
      " 10  BsmtFinSF2     1460 non-null   int64  \n",
      " 11  BsmtUnfSF      1460 non-null   int64  \n",
      " 12  TotalBsmtSF    1460 non-null   int64  \n",
      " 13  1stFlrSF       1460 non-null   int64  \n",
      " 14  2ndFlrSF       1460 non-null   int64  \n",
      " 15  LowQualFinSF   1460 non-null   int64  \n",
      " 16  GrLivArea      1460 non-null   int64  \n",
      " 17  BsmtFullBath   1460 non-null   int64  \n",
      " 18  BsmtHalfBath   1460 non-null   int64  \n",
      " 19  FullBath       1460 non-null   int64  \n",
      " 20  HalfBath       1460 non-null   int64  \n",
      " 21  BedroomAbvGr   1460 non-null   int64  \n",
      " 22  KitchenAbvGr   1460 non-null   int64  \n",
      " 23  TotRmsAbvGrd   1460 non-null   int64  \n",
      " 24  Fireplaces     1460 non-null   int64  \n",
      " 25  GarageYrBlt    1379 non-null   float64\n",
      " 26  GarageCars     1460 non-null   int64  \n",
      " 27  GarageArea     1460 non-null   int64  \n",
      " 28  WoodDeckSF     1460 non-null   int64  \n",
      " 29  OpenPorchSF    1460 non-null   int64  \n",
      " 30  EnclosedPorch  1460 non-null   int64  \n",
      " 31  3SsnPorch      1460 non-null   int64  \n",
      " 32  ScreenPorch    1460 non-null   int64  \n",
      " 33  PoolArea       1460 non-null   int64  \n",
      " 34  MiscVal        1460 non-null   int64  \n",
      " 35  MoSold         1460 non-null   int64  \n",
      " 36  YrSold         1460 non-null   int64  \n",
      " 37  SalePrice      1460 non-null   int64  \n",
      "dtypes: float64(3), int64(35)\n",
      "memory usage: 433.6 KB\n"
     ]
    }
   ],
   "source": [
    "numerical_data = train.select_dtypes(\"number\")\n",
    "numerical_data.info()"
   ]
  },
  {
   "cell_type": "code",
   "execution_count": 14,
   "metadata": {},
   "outputs": [
    {
     "name": "stdout",
     "output_type": "stream",
     "text": [
      "<class 'pandas.core.frame.DataFrame'>\n",
      "RangeIndex: 1460 entries, 0 to 1459\n",
      "Data columns (total 43 columns):\n",
      " #   Column         Non-Null Count  Dtype \n",
      "---  ------         --------------  ----- \n",
      " 0   MSZoning       1460 non-null   object\n",
      " 1   Street         1460 non-null   object\n",
      " 2   Alley          91 non-null     object\n",
      " 3   LotShape       1460 non-null   object\n",
      " 4   LandContour    1460 non-null   object\n",
      " 5   Utilities      1460 non-null   object\n",
      " 6   LotConfig      1460 non-null   object\n",
      " 7   LandSlope      1460 non-null   object\n",
      " 8   Neighborhood   1460 non-null   object\n",
      " 9   Condition1     1460 non-null   object\n",
      " 10  Condition2     1460 non-null   object\n",
      " 11  BldgType       1460 non-null   object\n",
      " 12  HouseStyle     1460 non-null   object\n",
      " 13  RoofStyle      1460 non-null   object\n",
      " 14  RoofMatl       1460 non-null   object\n",
      " 15  Exterior1st    1460 non-null   object\n",
      " 16  Exterior2nd    1460 non-null   object\n",
      " 17  MasVnrType     1452 non-null   object\n",
      " 18  ExterQual      1460 non-null   object\n",
      " 19  ExterCond      1460 non-null   object\n",
      " 20  Foundation     1460 non-null   object\n",
      " 21  BsmtQual       1423 non-null   object\n",
      " 22  BsmtCond       1423 non-null   object\n",
      " 23  BsmtExposure   1422 non-null   object\n",
      " 24  BsmtFinType1   1423 non-null   object\n",
      " 25  BsmtFinType2   1422 non-null   object\n",
      " 26  Heating        1460 non-null   object\n",
      " 27  HeatingQC      1460 non-null   object\n",
      " 28  CentralAir     1460 non-null   object\n",
      " 29  Electrical     1459 non-null   object\n",
      " 30  KitchenQual    1460 non-null   object\n",
      " 31  Functional     1460 non-null   object\n",
      " 32  FireplaceQu    770 non-null    object\n",
      " 33  GarageType     1379 non-null   object\n",
      " 34  GarageFinish   1379 non-null   object\n",
      " 35  GarageQual     1379 non-null   object\n",
      " 36  GarageCond     1379 non-null   object\n",
      " 37  PavedDrive     1460 non-null   object\n",
      " 38  PoolQC         7 non-null      object\n",
      " 39  Fence          281 non-null    object\n",
      " 40  MiscFeature    54 non-null     object\n",
      " 41  SaleType       1460 non-null   object\n",
      " 42  SaleCondition  1460 non-null   object\n",
      "dtypes: object(43)\n",
      "memory usage: 490.6+ KB\n"
     ]
    }
   ],
   "source": [
    "categorical = train.select_dtypes(object)\n",
    "categorical.info()"
   ]
  },
  {
   "cell_type": "code",
   "execution_count": 16,
   "metadata": {},
   "outputs": [],
   "source": [
    "#Feature separation:\n",
    "discrete = ['YearBuilt', 'YearRemodAdd','BsmtFullBath', 'BsmtHalfBath', 'FullBath', 'HalfBath',\n",
    "            'BedroomAbvGr', 'KitchenAbvGr','TotRmsAbvGrd','Fireplaces', 'GarageYrBlt','GarageCars', \n",
    "            'MoSold', 'YrSold', 'OverallQual', 'OverallCond']\n",
    "\n",
    "continuous = ['LotFrontage', 'LotArea','MasVnrArea','BsmtFinSF1',  'BsmtFinSF2', 'BsmtUnfSF', \n",
    "              'TotalBsmtSF','1stFlrSF', '2ndFlrSF', 'LowQualFinSF','GrLivArea', 'GarageArea',  \n",
    "              'WoodDeckSF', 'OpenPorchSF', 'EnclosedPorch', '3SsnPorch','ScreenPorch', 'PoolArea', \n",
    "              'MiscVal']\n",
    "\n",
    "nominal = ['MSSubClass','MSZoning', 'Alley',  'LandContour','LotConfig',   'Neighborhood', \n",
    "           'Condition1', 'Condition2', 'BldgType', 'HouseStyle','RoofStyle','RoofMatl', 'Exterior1st',\n",
    "           'Exterior2nd', 'MasVnrType',  'Foundation','Heating',  'CentralAir',  'GarageType','MiscFeature',\n",
    "           'SaleType', 'SaleCondition']\n",
    "\n",
    "ordinal = ['LotShape', 'LandSlope',  'ExterQual', 'ExterCond', 'BsmtQual', 'BsmtCond',\n",
    "           'BsmtExposure', 'BsmtFinType1', 'BsmtFinType2','HeatingQC', 'Electrical','KitchenQual', \n",
    "           'Functional','FireplaceQu', 'GarageFinish', 'GarageQual','GarageCond','PavedDrive', \n",
    "           'PoolQC', 'Fence']"
   ]
  },
  {
   "cell_type": "code",
   "execution_count": 22,
   "metadata": {},
   "outputs": [
    {
     "data": {
      "application/vnd.jupyter.widget-view+json": {
       "model_id": "3cd1800503f74d79983793850c7a4526",
       "version_major": 2,
       "version_minor": 0
      },
      "text/plain": [
       "Summarize dataset:   0%|          | 0/5 [00:00<?, ?it/s]"
      ]
     },
     "metadata": {},
     "output_type": "display_data"
    },
    {
     "ename": "KeyboardInterrupt",
     "evalue": "",
     "output_type": "error",
     "traceback": [
      "\u001b[0;31m---------------------------------------------------------------------------\u001b[0m",
      "\u001b[0;31mKeyboardInterrupt\u001b[0m                         Traceback (most recent call last)",
      "Cell \u001b[0;32mIn[22], line 10\u001b[0m\n\u001b[1;32m      2\u001b[0m train \u001b[39m=\u001b[39m pd\u001b[39m.\u001b[39mread_csv(\u001b[39m'\u001b[39m\u001b[39m../data/train.csv\u001b[39m\u001b[39m'\u001b[39m)\n\u001b[1;32m      3\u001b[0m train_profile \u001b[39m=\u001b[39m ProfileReport(\n\u001b[1;32m      4\u001b[0m     train, \n\u001b[1;32m      5\u001b[0m     title\u001b[39m=\u001b[39m\u001b[39m\"\u001b[39m\u001b[39mEDA report for training dataset\u001b[39m\u001b[39m\"\u001b[39m,\n\u001b[0;32m   (...)\u001b[0m\n\u001b[1;32m      8\u001b[0m     },\n\u001b[1;32m      9\u001b[0m     )\n\u001b[0;32m---> 10\u001b[0m train_profile\u001b[39m.\u001b[39;49mto_notebook_iframe()\n\u001b[1;32m     11\u001b[0m train_profile\u001b[39m.\u001b[39mto_file(\u001b[39m\"\u001b[39m\u001b[39m../reports/train_dataframe_eda.html\u001b[39m\u001b[39m\"\u001b[39m)\n",
      "File \u001b[0;32m~/anaconda3/envs/nightly-env/lib/python3.10/site-packages/typeguard/__init__.py:1033\u001b[0m, in \u001b[0;36mtypechecked.<locals>.wrapper\u001b[0;34m(*args, **kwargs)\u001b[0m\n\u001b[1;32m   1031\u001b[0m memo \u001b[39m=\u001b[39m _CallMemo(python_func, _localns, args\u001b[39m=\u001b[39margs, kwargs\u001b[39m=\u001b[39mkwargs)\n\u001b[1;32m   1032\u001b[0m check_argument_types(memo)\n\u001b[0;32m-> 1033\u001b[0m retval \u001b[39m=\u001b[39m func(\u001b[39m*\u001b[39;49margs, \u001b[39m*\u001b[39;49m\u001b[39m*\u001b[39;49mkwargs)\n\u001b[1;32m   1034\u001b[0m \u001b[39mtry\u001b[39;00m:\n\u001b[1;32m   1035\u001b[0m     check_return_type(retval, memo)\n",
      "File \u001b[0;32m~/anaconda3/envs/nightly-env/lib/python3.10/site-packages/pandas_profiling/profile_report.py:445\u001b[0m, in \u001b[0;36mProfileReport.to_notebook_iframe\u001b[0;34m(self)\u001b[0m\n\u001b[1;32m    443\u001b[0m \u001b[39mwith\u001b[39;00m warnings\u001b[39m.\u001b[39mcatch_warnings():\n\u001b[1;32m    444\u001b[0m     warnings\u001b[39m.\u001b[39msimplefilter(\u001b[39m\"\u001b[39m\u001b[39mignore\u001b[39m\u001b[39m\"\u001b[39m)\n\u001b[0;32m--> 445\u001b[0m     display(get_notebook_iframe(\u001b[39mself\u001b[39;49m\u001b[39m.\u001b[39;49mconfig, \u001b[39mself\u001b[39;49m))\n",
      "File \u001b[0;32m~/anaconda3/envs/nightly-env/lib/python3.10/site-packages/pandas_profiling/report/presentation/flavours/widget/notebook.py:75\u001b[0m, in \u001b[0;36mget_notebook_iframe\u001b[0;34m(config, profile)\u001b[0m\n\u001b[1;32m     73\u001b[0m     output \u001b[39m=\u001b[39m get_notebook_iframe_src(config, profile)\n\u001b[1;32m     74\u001b[0m \u001b[39melif\u001b[39;00m attribute \u001b[39m==\u001b[39m IframeAttribute\u001b[39m.\u001b[39msrcdoc:\n\u001b[0;32m---> 75\u001b[0m     output \u001b[39m=\u001b[39m get_notebook_iframe_srcdoc(config, profile)\n\u001b[1;32m     76\u001b[0m \u001b[39melse\u001b[39;00m:\n\u001b[1;32m     77\u001b[0m     \u001b[39mraise\u001b[39;00m \u001b[39mValueError\u001b[39;00m(\n\u001b[1;32m     78\u001b[0m         \u001b[39mf\u001b[39m\u001b[39m'\u001b[39m\u001b[39mIframe Attribute can be \u001b[39m\u001b[39m\"\u001b[39m\u001b[39msrc\u001b[39m\u001b[39m\"\u001b[39m\u001b[39m or \u001b[39m\u001b[39m\"\u001b[39m\u001b[39msrcdoc\u001b[39m\u001b[39m\"\u001b[39m\u001b[39m (current: \u001b[39m\u001b[39m{\u001b[39;00mattribute\u001b[39m}\u001b[39;00m\u001b[39m).\u001b[39m\u001b[39m'\u001b[39m\n\u001b[1;32m     79\u001b[0m     )\n",
      "File \u001b[0;32m~/anaconda3/envs/nightly-env/lib/python3.10/site-packages/pandas_profiling/report/presentation/flavours/widget/notebook.py:29\u001b[0m, in \u001b[0;36mget_notebook_iframe_srcdoc\u001b[0;34m(config, profile)\u001b[0m\n\u001b[1;32m     27\u001b[0m width \u001b[39m=\u001b[39m config\u001b[39m.\u001b[39mnotebook\u001b[39m.\u001b[39miframe\u001b[39m.\u001b[39mwidth\n\u001b[1;32m     28\u001b[0m height \u001b[39m=\u001b[39m config\u001b[39m.\u001b[39mnotebook\u001b[39m.\u001b[39miframe\u001b[39m.\u001b[39mheight\n\u001b[0;32m---> 29\u001b[0m src \u001b[39m=\u001b[39m html\u001b[39m.\u001b[39mescape(profile\u001b[39m.\u001b[39;49mto_html())\n\u001b[1;32m     31\u001b[0m iframe \u001b[39m=\u001b[39m \u001b[39mf\u001b[39m\u001b[39m'\u001b[39m\u001b[39m<iframe width=\u001b[39m\u001b[39m\"\u001b[39m\u001b[39m{\u001b[39;00mwidth\u001b[39m}\u001b[39;00m\u001b[39m\"\u001b[39m\u001b[39m height=\u001b[39m\u001b[39m\"\u001b[39m\u001b[39m{\u001b[39;00mheight\u001b[39m}\u001b[39;00m\u001b[39m\"\u001b[39m\u001b[39m srcdoc=\u001b[39m\u001b[39m\"\u001b[39m\u001b[39m{\u001b[39;00msrc\u001b[39m}\u001b[39;00m\u001b[39m\"\u001b[39m\u001b[39m frameborder=\u001b[39m\u001b[39m\"\u001b[39m\u001b[39m0\u001b[39m\u001b[39m\"\u001b[39m\u001b[39m allowfullscreen></iframe>\u001b[39m\u001b[39m'\u001b[39m\n\u001b[1;32m     33\u001b[0m \u001b[39mreturn\u001b[39;00m HTML(iframe)\n",
      "File \u001b[0;32m~/anaconda3/envs/nightly-env/lib/python3.10/site-packages/typeguard/__init__.py:1033\u001b[0m, in \u001b[0;36mtypechecked.<locals>.wrapper\u001b[0;34m(*args, **kwargs)\u001b[0m\n\u001b[1;32m   1031\u001b[0m memo \u001b[39m=\u001b[39m _CallMemo(python_func, _localns, args\u001b[39m=\u001b[39margs, kwargs\u001b[39m=\u001b[39mkwargs)\n\u001b[1;32m   1032\u001b[0m check_argument_types(memo)\n\u001b[0;32m-> 1033\u001b[0m retval \u001b[39m=\u001b[39m func(\u001b[39m*\u001b[39;49margs, \u001b[39m*\u001b[39;49m\u001b[39m*\u001b[39;49mkwargs)\n\u001b[1;32m   1034\u001b[0m \u001b[39mtry\u001b[39;00m:\n\u001b[1;32m   1035\u001b[0m     check_return_type(retval, memo)\n",
      "File \u001b[0;32m~/anaconda3/envs/nightly-env/lib/python3.10/site-packages/pandas_profiling/profile_report.py:415\u001b[0m, in \u001b[0;36mProfileReport.to_html\u001b[0;34m(self)\u001b[0m\n\u001b[1;32m    407\u001b[0m \u001b[39mdef\u001b[39;00m \u001b[39mto_html\u001b[39m(\u001b[39mself\u001b[39m) \u001b[39m-\u001b[39m\u001b[39m>\u001b[39m \u001b[39mstr\u001b[39m:\n\u001b[1;32m    408\u001b[0m     \u001b[39m\"\"\"Generate and return complete template as lengthy string\u001b[39;00m\n\u001b[1;32m    409\u001b[0m \u001b[39m        for using with frameworks.\u001b[39;00m\n\u001b[1;32m    410\u001b[0m \n\u001b[0;32m   (...)\u001b[0m\n\u001b[1;32m    413\u001b[0m \n\u001b[1;32m    414\u001b[0m \u001b[39m    \"\"\"\u001b[39;00m\n\u001b[0;32m--> 415\u001b[0m     \u001b[39mreturn\u001b[39;00m \u001b[39mself\u001b[39;49m\u001b[39m.\u001b[39;49mhtml\n",
      "File \u001b[0;32m~/anaconda3/envs/nightly-env/lib/python3.10/site-packages/typeguard/__init__.py:1033\u001b[0m, in \u001b[0;36mtypechecked.<locals>.wrapper\u001b[0;34m(*args, **kwargs)\u001b[0m\n\u001b[1;32m   1031\u001b[0m memo \u001b[39m=\u001b[39m _CallMemo(python_func, _localns, args\u001b[39m=\u001b[39margs, kwargs\u001b[39m=\u001b[39mkwargs)\n\u001b[1;32m   1032\u001b[0m check_argument_types(memo)\n\u001b[0;32m-> 1033\u001b[0m retval \u001b[39m=\u001b[39m func(\u001b[39m*\u001b[39;49margs, \u001b[39m*\u001b[39;49m\u001b[39m*\u001b[39;49mkwargs)\n\u001b[1;32m   1034\u001b[0m \u001b[39mtry\u001b[39;00m:\n\u001b[1;32m   1035\u001b[0m     check_return_type(retval, memo)\n",
      "File \u001b[0;32m~/anaconda3/envs/nightly-env/lib/python3.10/site-packages/pandas_profiling/profile_report.py:226\u001b[0m, in \u001b[0;36mProfileReport.html\u001b[0;34m(self)\u001b[0m\n\u001b[1;32m    223\u001b[0m \u001b[39m@property\u001b[39m\n\u001b[1;32m    224\u001b[0m \u001b[39mdef\u001b[39;00m \u001b[39mhtml\u001b[39m(\u001b[39mself\u001b[39m) \u001b[39m-\u001b[39m\u001b[39m>\u001b[39m \u001b[39mstr\u001b[39m:\n\u001b[1;32m    225\u001b[0m     \u001b[39mif\u001b[39;00m \u001b[39mself\u001b[39m\u001b[39m.\u001b[39m_html \u001b[39mis\u001b[39;00m \u001b[39mNone\u001b[39;00m:\n\u001b[0;32m--> 226\u001b[0m         \u001b[39mself\u001b[39m\u001b[39m.\u001b[39m_html \u001b[39m=\u001b[39m \u001b[39mself\u001b[39;49m\u001b[39m.\u001b[39;49m_render_html()\n\u001b[1;32m    227\u001b[0m     \u001b[39mreturn\u001b[39;00m \u001b[39mself\u001b[39m\u001b[39m.\u001b[39m_html\n",
      "File \u001b[0;32m~/anaconda3/envs/nightly-env/lib/python3.10/site-packages/typeguard/__init__.py:1033\u001b[0m, in \u001b[0;36mtypechecked.<locals>.wrapper\u001b[0;34m(*args, **kwargs)\u001b[0m\n\u001b[1;32m   1031\u001b[0m memo \u001b[39m=\u001b[39m _CallMemo(python_func, _localns, args\u001b[39m=\u001b[39margs, kwargs\u001b[39m=\u001b[39mkwargs)\n\u001b[1;32m   1032\u001b[0m check_argument_types(memo)\n\u001b[0;32m-> 1033\u001b[0m retval \u001b[39m=\u001b[39m func(\u001b[39m*\u001b[39;49margs, \u001b[39m*\u001b[39;49m\u001b[39m*\u001b[39;49mkwargs)\n\u001b[1;32m   1034\u001b[0m \u001b[39mtry\u001b[39;00m:\n\u001b[1;32m   1035\u001b[0m     check_return_type(retval, memo)\n",
      "File \u001b[0;32m~/anaconda3/envs/nightly-env/lib/python3.10/site-packages/pandas_profiling/profile_report.py:334\u001b[0m, in \u001b[0;36mProfileReport._render_html\u001b[0;34m(self)\u001b[0m\n\u001b[1;32m    331\u001b[0m \u001b[39mdef\u001b[39;00m \u001b[39m_render_html\u001b[39m(\u001b[39mself\u001b[39m) \u001b[39m-\u001b[39m\u001b[39m>\u001b[39m \u001b[39mstr\u001b[39m:\n\u001b[1;32m    332\u001b[0m     \u001b[39mfrom\u001b[39;00m \u001b[39mpandas_profiling\u001b[39;00m\u001b[39m.\u001b[39;00m\u001b[39mreport\u001b[39;00m\u001b[39m.\u001b[39;00m\u001b[39mpresentation\u001b[39;00m\u001b[39m.\u001b[39;00m\u001b[39mflavours\u001b[39;00m \u001b[39mimport\u001b[39;00m HTMLReport\n\u001b[0;32m--> 334\u001b[0m     report \u001b[39m=\u001b[39m \u001b[39mself\u001b[39;49m\u001b[39m.\u001b[39;49mreport\n\u001b[1;32m    336\u001b[0m     \u001b[39mwith\u001b[39;00m tqdm(\n\u001b[1;32m    337\u001b[0m         total\u001b[39m=\u001b[39m\u001b[39m1\u001b[39m, desc\u001b[39m=\u001b[39m\u001b[39m\"\u001b[39m\u001b[39mRender HTML\u001b[39m\u001b[39m\"\u001b[39m, disable\u001b[39m=\u001b[39m\u001b[39mnot\u001b[39;00m \u001b[39mself\u001b[39m\u001b[39m.\u001b[39mconfig\u001b[39m.\u001b[39mprogress_bar\n\u001b[1;32m    338\u001b[0m     ) \u001b[39mas\u001b[39;00m pbar:\n\u001b[1;32m    339\u001b[0m         html \u001b[39m=\u001b[39m HTMLReport(copy\u001b[39m.\u001b[39mdeepcopy(report))\u001b[39m.\u001b[39mrender(\n\u001b[1;32m    340\u001b[0m             nav\u001b[39m=\u001b[39m\u001b[39mself\u001b[39m\u001b[39m.\u001b[39mconfig\u001b[39m.\u001b[39mhtml\u001b[39m.\u001b[39mnavbar_show,\n\u001b[1;32m    341\u001b[0m             offline\u001b[39m=\u001b[39m\u001b[39mself\u001b[39m\u001b[39m.\u001b[39mconfig\u001b[39m.\u001b[39mhtml\u001b[39m.\u001b[39muse_local_assets,\n\u001b[0;32m   (...)\u001b[0m\n\u001b[1;32m    349\u001b[0m             version\u001b[39m=\u001b[39m\u001b[39mself\u001b[39m\u001b[39m.\u001b[39mdescription_set[\u001b[39m\"\u001b[39m\u001b[39mpackage\u001b[39m\u001b[39m\"\u001b[39m][\u001b[39m\"\u001b[39m\u001b[39mpandas_profiling_version\u001b[39m\u001b[39m\"\u001b[39m],\n\u001b[1;32m    350\u001b[0m         )\n",
      "File \u001b[0;32m~/anaconda3/envs/nightly-env/lib/python3.10/site-packages/typeguard/__init__.py:1033\u001b[0m, in \u001b[0;36mtypechecked.<locals>.wrapper\u001b[0;34m(*args, **kwargs)\u001b[0m\n\u001b[1;32m   1031\u001b[0m memo \u001b[39m=\u001b[39m _CallMemo(python_func, _localns, args\u001b[39m=\u001b[39margs, kwargs\u001b[39m=\u001b[39mkwargs)\n\u001b[1;32m   1032\u001b[0m check_argument_types(memo)\n\u001b[0;32m-> 1033\u001b[0m retval \u001b[39m=\u001b[39m func(\u001b[39m*\u001b[39;49margs, \u001b[39m*\u001b[39;49m\u001b[39m*\u001b[39;49mkwargs)\n\u001b[1;32m   1034\u001b[0m \u001b[39mtry\u001b[39;00m:\n\u001b[1;32m   1035\u001b[0m     check_return_type(retval, memo)\n",
      "File \u001b[0;32m~/anaconda3/envs/nightly-env/lib/python3.10/site-packages/pandas_profiling/profile_report.py:220\u001b[0m, in \u001b[0;36mProfileReport.report\u001b[0;34m(self)\u001b[0m\n\u001b[1;32m    217\u001b[0m \u001b[39m@property\u001b[39m\n\u001b[1;32m    218\u001b[0m \u001b[39mdef\u001b[39;00m \u001b[39mreport\u001b[39m(\u001b[39mself\u001b[39m) \u001b[39m-\u001b[39m\u001b[39m>\u001b[39m Root:\n\u001b[1;32m    219\u001b[0m     \u001b[39mif\u001b[39;00m \u001b[39mself\u001b[39m\u001b[39m.\u001b[39m_report \u001b[39mis\u001b[39;00m \u001b[39mNone\u001b[39;00m:\n\u001b[0;32m--> 220\u001b[0m         \u001b[39mself\u001b[39m\u001b[39m.\u001b[39m_report \u001b[39m=\u001b[39m get_report_structure(\u001b[39mself\u001b[39m\u001b[39m.\u001b[39mconfig, \u001b[39mself\u001b[39;49m\u001b[39m.\u001b[39;49mdescription_set)\n\u001b[1;32m    221\u001b[0m     \u001b[39mreturn\u001b[39;00m \u001b[39mself\u001b[39m\u001b[39m.\u001b[39m_report\n",
      "File \u001b[0;32m~/anaconda3/envs/nightly-env/lib/python3.10/site-packages/typeguard/__init__.py:1033\u001b[0m, in \u001b[0;36mtypechecked.<locals>.wrapper\u001b[0;34m(*args, **kwargs)\u001b[0m\n\u001b[1;32m   1031\u001b[0m memo \u001b[39m=\u001b[39m _CallMemo(python_func, _localns, args\u001b[39m=\u001b[39margs, kwargs\u001b[39m=\u001b[39mkwargs)\n\u001b[1;32m   1032\u001b[0m check_argument_types(memo)\n\u001b[0;32m-> 1033\u001b[0m retval \u001b[39m=\u001b[39m func(\u001b[39m*\u001b[39;49margs, \u001b[39m*\u001b[39;49m\u001b[39m*\u001b[39;49mkwargs)\n\u001b[1;32m   1034\u001b[0m \u001b[39mtry\u001b[39;00m:\n\u001b[1;32m   1035\u001b[0m     check_return_type(retval, memo)\n",
      "File \u001b[0;32m~/anaconda3/envs/nightly-env/lib/python3.10/site-packages/pandas_profiling/profile_report.py:202\u001b[0m, in \u001b[0;36mProfileReport.description_set\u001b[0;34m(self)\u001b[0m\n\u001b[1;32m    199\u001b[0m \u001b[39m@property\u001b[39m\n\u001b[1;32m    200\u001b[0m \u001b[39mdef\u001b[39;00m \u001b[39mdescription_set\u001b[39m(\u001b[39mself\u001b[39m) \u001b[39m-\u001b[39m\u001b[39m>\u001b[39m Dict[\u001b[39mstr\u001b[39m, Any]:\n\u001b[1;32m    201\u001b[0m     \u001b[39mif\u001b[39;00m \u001b[39mself\u001b[39m\u001b[39m.\u001b[39m_description_set \u001b[39mis\u001b[39;00m \u001b[39mNone\u001b[39;00m:\n\u001b[0;32m--> 202\u001b[0m         \u001b[39mself\u001b[39m\u001b[39m.\u001b[39m_description_set \u001b[39m=\u001b[39m describe_df(\n\u001b[1;32m    203\u001b[0m             \u001b[39mself\u001b[39;49m\u001b[39m.\u001b[39;49mconfig,\n\u001b[1;32m    204\u001b[0m             \u001b[39mself\u001b[39;49m\u001b[39m.\u001b[39;49mdf,\n\u001b[1;32m    205\u001b[0m             \u001b[39mself\u001b[39;49m\u001b[39m.\u001b[39;49msummarizer,\n\u001b[1;32m    206\u001b[0m             \u001b[39mself\u001b[39;49m\u001b[39m.\u001b[39;49mtypeset,\n\u001b[1;32m    207\u001b[0m             \u001b[39mself\u001b[39;49m\u001b[39m.\u001b[39;49m_sample,\n\u001b[1;32m    208\u001b[0m         )\n\u001b[1;32m    209\u001b[0m     \u001b[39mreturn\u001b[39;00m \u001b[39mself\u001b[39m\u001b[39m.\u001b[39m_description_set\n",
      "File \u001b[0;32m~/anaconda3/envs/nightly-env/lib/python3.10/site-packages/pandas_profiling/model/describe.py:71\u001b[0m, in \u001b[0;36mdescribe\u001b[0;34m(config, df, summarizer, typeset, sample)\u001b[0m\n\u001b[1;32m     69\u001b[0m \u001b[39m# Variable-specific\u001b[39;00m\n\u001b[1;32m     70\u001b[0m pbar\u001b[39m.\u001b[39mtotal \u001b[39m+\u001b[39m\u001b[39m=\u001b[39m \u001b[39mlen\u001b[39m(df\u001b[39m.\u001b[39mcolumns)\n\u001b[0;32m---> 71\u001b[0m series_description \u001b[39m=\u001b[39m get_series_descriptions(\n\u001b[1;32m     72\u001b[0m     config, df, summarizer, typeset, pbar\n\u001b[1;32m     73\u001b[0m )\n\u001b[1;32m     75\u001b[0m pbar\u001b[39m.\u001b[39mset_postfix_str(\u001b[39m\"\u001b[39m\u001b[39mGet variable types\u001b[39m\u001b[39m\"\u001b[39m)\n\u001b[1;32m     76\u001b[0m pbar\u001b[39m.\u001b[39mtotal \u001b[39m+\u001b[39m\u001b[39m=\u001b[39m \u001b[39m1\u001b[39m\n",
      "File \u001b[0;32m~/anaconda3/envs/nightly-env/lib/python3.10/site-packages/multimethod/__init__.py:315\u001b[0m, in \u001b[0;36mmultimethod.__call__\u001b[0;34m(self, *args, **kwargs)\u001b[0m\n\u001b[1;32m    313\u001b[0m func \u001b[39m=\u001b[39m \u001b[39mself\u001b[39m[\u001b[39mtuple\u001b[39m(func(arg) \u001b[39mfor\u001b[39;00m func, arg \u001b[39min\u001b[39;00m \u001b[39mzip\u001b[39m(\u001b[39mself\u001b[39m\u001b[39m.\u001b[39mtype_checkers, args))]\n\u001b[1;32m    314\u001b[0m \u001b[39mtry\u001b[39;00m:\n\u001b[0;32m--> 315\u001b[0m     \u001b[39mreturn\u001b[39;00m func(\u001b[39m*\u001b[39;49margs, \u001b[39m*\u001b[39;49m\u001b[39m*\u001b[39;49mkwargs)\n\u001b[1;32m    316\u001b[0m \u001b[39mexcept\u001b[39;00m \u001b[39mTypeError\u001b[39;00m \u001b[39mas\u001b[39;00m ex:\n\u001b[1;32m    317\u001b[0m     \u001b[39mraise\u001b[39;00m DispatchError(\u001b[39mf\u001b[39m\u001b[39m\"\u001b[39m\u001b[39mFunction \u001b[39m\u001b[39m{\u001b[39;00mfunc\u001b[39m.\u001b[39m\u001b[39m__code__\u001b[39m\u001b[39m}\u001b[39;00m\u001b[39m\"\u001b[39m) \u001b[39mfrom\u001b[39;00m \u001b[39mex\u001b[39;00m\n",
      "File \u001b[0;32m~/anaconda3/envs/nightly-env/lib/python3.10/site-packages/pandas_profiling/model/pandas/summary_pandas.py:95\u001b[0m, in \u001b[0;36mpandas_get_series_descriptions\u001b[0;34m(config, df, summarizer, typeset, pbar)\u001b[0m\n\u001b[1;32m     91\u001b[0m \u001b[39mwith\u001b[39;00m multiprocessing\u001b[39m.\u001b[39mpool\u001b[39m.\u001b[39mThreadPool(pool_size) \u001b[39mas\u001b[39;00m executor:\n\u001b[1;32m     92\u001b[0m     \u001b[39mfor\u001b[39;00m i, (column, description) \u001b[39min\u001b[39;00m \u001b[39menumerate\u001b[39m(\n\u001b[1;32m     93\u001b[0m         executor\u001b[39m.\u001b[39mimap_unordered(multiprocess_1d, args)\n\u001b[1;32m     94\u001b[0m     ):\n\u001b[0;32m---> 95\u001b[0m         pbar\u001b[39m.\u001b[39;49mset_postfix_str(\u001b[39mf\u001b[39;49m\u001b[39m\"\u001b[39;49m\u001b[39mDescribe variable:\u001b[39;49m\u001b[39m{\u001b[39;49;00mcolumn\u001b[39m}\u001b[39;49;00m\u001b[39m\"\u001b[39;49m)\n\u001b[1;32m     96\u001b[0m         series_description[column] \u001b[39m=\u001b[39m description\n\u001b[1;32m     97\u001b[0m         pbar\u001b[39m.\u001b[39mupdate()\n",
      "File \u001b[0;32m~/anaconda3/envs/nightly-env/lib/python3.10/site-packages/tqdm/std.py:1453\u001b[0m, in \u001b[0;36mtqdm.set_postfix_str\u001b[0;34m(self, s, refresh)\u001b[0m\n\u001b[1;32m   1451\u001b[0m \u001b[39mself\u001b[39m\u001b[39m.\u001b[39mpostfix \u001b[39m=\u001b[39m \u001b[39mstr\u001b[39m(s)\n\u001b[1;32m   1452\u001b[0m \u001b[39mif\u001b[39;00m refresh:\n\u001b[0;32m-> 1453\u001b[0m     \u001b[39mself\u001b[39;49m\u001b[39m.\u001b[39;49mrefresh()\n",
      "File \u001b[0;32m~/anaconda3/envs/nightly-env/lib/python3.10/site-packages/tqdm/std.py:1361\u001b[0m, in \u001b[0;36mtqdm.refresh\u001b[0;34m(self, nolock, lock_args)\u001b[0m\n\u001b[1;32m   1359\u001b[0m     \u001b[39melse\u001b[39;00m:\n\u001b[1;32m   1360\u001b[0m         \u001b[39mself\u001b[39m\u001b[39m.\u001b[39m_lock\u001b[39m.\u001b[39macquire()\n\u001b[0;32m-> 1361\u001b[0m \u001b[39mself\u001b[39;49m\u001b[39m.\u001b[39;49mdisplay()\n\u001b[1;32m   1362\u001b[0m \u001b[39mif\u001b[39;00m \u001b[39mnot\u001b[39;00m nolock:\n\u001b[1;32m   1363\u001b[0m     \u001b[39mself\u001b[39m\u001b[39m.\u001b[39m_lock\u001b[39m.\u001b[39mrelease()\n",
      "File \u001b[0;32m~/anaconda3/envs/nightly-env/lib/python3.10/site-packages/tqdm/notebook.py:177\u001b[0m, in \u001b[0;36mtqdm_notebook.display\u001b[0;34m(self, msg, pos, close, bar_style, check_delay)\u001b[0m\n\u001b[1;32m    174\u001b[0m     left, right \u001b[39m=\u001b[39m \u001b[39m'\u001b[39m\u001b[39m'\u001b[39m, escape(msg)\n\u001b[1;32m    176\u001b[0m \u001b[39m# Update description\u001b[39;00m\n\u001b[0;32m--> 177\u001b[0m ltext\u001b[39m.\u001b[39;49mvalue \u001b[39m=\u001b[39m left\n\u001b[1;32m    178\u001b[0m \u001b[39m# never clear the bar (signal: msg='')\u001b[39;00m\n\u001b[1;32m    179\u001b[0m \u001b[39mif\u001b[39;00m right:\n",
      "File \u001b[0;32m~/.local/lib/python3.10/site-packages/traitlets/traitlets.py:732\u001b[0m, in \u001b[0;36mTraitType.__set__\u001b[0;34m(self, obj, value)\u001b[0m\n\u001b[1;32m    730\u001b[0m     \u001b[39mraise\u001b[39;00m TraitError(\u001b[39m'\u001b[39m\u001b[39mThe \u001b[39m\u001b[39m\"\u001b[39m\u001b[39m%s\u001b[39;00m\u001b[39m\"\u001b[39m\u001b[39m trait is read-only.\u001b[39m\u001b[39m'\u001b[39m \u001b[39m%\u001b[39m \u001b[39mself\u001b[39m\u001b[39m.\u001b[39mname)\n\u001b[1;32m    731\u001b[0m \u001b[39melse\u001b[39;00m:\n\u001b[0;32m--> 732\u001b[0m     \u001b[39mself\u001b[39;49m\u001b[39m.\u001b[39;49mset(obj, value)\n",
      "File \u001b[0;32m~/.local/lib/python3.10/site-packages/traitlets/traitlets.py:721\u001b[0m, in \u001b[0;36mTraitType.set\u001b[0;34m(self, obj, value)\u001b[0m\n\u001b[1;32m    717\u001b[0m     silent \u001b[39m=\u001b[39m \u001b[39mFalse\u001b[39;00m\n\u001b[1;32m    718\u001b[0m \u001b[39mif\u001b[39;00m silent \u001b[39mis\u001b[39;00m \u001b[39mnot\u001b[39;00m \u001b[39mTrue\u001b[39;00m:\n\u001b[1;32m    719\u001b[0m     \u001b[39m# we explicitly compare silent to True just in case the equality\u001b[39;00m\n\u001b[1;32m    720\u001b[0m     \u001b[39m# comparison above returns something other than True/False\u001b[39;00m\n\u001b[0;32m--> 721\u001b[0m     obj\u001b[39m.\u001b[39;49m_notify_trait(\u001b[39mself\u001b[39;49m\u001b[39m.\u001b[39;49mname, old_value, new_value)\n",
      "File \u001b[0;32m~/.local/lib/python3.10/site-packages/traitlets/traitlets.py:1504\u001b[0m, in \u001b[0;36mHasTraits._notify_trait\u001b[0;34m(self, name, old_value, new_value)\u001b[0m\n\u001b[1;32m   1503\u001b[0m \u001b[39mdef\u001b[39;00m \u001b[39m_notify_trait\u001b[39m(\u001b[39mself\u001b[39m, name, old_value, new_value):\n\u001b[0;32m-> 1504\u001b[0m     \u001b[39mself\u001b[39;49m\u001b[39m.\u001b[39;49mnotify_change(\n\u001b[1;32m   1505\u001b[0m         Bunch(\n\u001b[1;32m   1506\u001b[0m             name\u001b[39m=\u001b[39;49mname,\n\u001b[1;32m   1507\u001b[0m             old\u001b[39m=\u001b[39;49mold_value,\n\u001b[1;32m   1508\u001b[0m             new\u001b[39m=\u001b[39;49mnew_value,\n\u001b[1;32m   1509\u001b[0m             owner\u001b[39m=\u001b[39;49m\u001b[39mself\u001b[39;49m,\n\u001b[1;32m   1510\u001b[0m             \u001b[39mtype\u001b[39;49m\u001b[39m=\u001b[39;49m\u001b[39m\"\u001b[39;49m\u001b[39mchange\u001b[39;49m\u001b[39m\"\u001b[39;49m,\n\u001b[1;32m   1511\u001b[0m         )\n\u001b[1;32m   1512\u001b[0m     )\n",
      "File \u001b[0;32m~/anaconda3/envs/nightly-env/lib/python3.10/site-packages/ipywidgets/widgets/widget.py:693\u001b[0m, in \u001b[0;36mWidget.notify_change\u001b[0;34m(self, change)\u001b[0m\n\u001b[1;32m    689\u001b[0m \u001b[39mif\u001b[39;00m \u001b[39mself\u001b[39m\u001b[39m.\u001b[39mcomm \u001b[39mis\u001b[39;00m \u001b[39mnot\u001b[39;00m \u001b[39mNone\u001b[39;00m \u001b[39mand\u001b[39;00m \u001b[39mself\u001b[39m\u001b[39m.\u001b[39mcomm\u001b[39m.\u001b[39mkernel \u001b[39mis\u001b[39;00m \u001b[39mnot\u001b[39;00m \u001b[39mNone\u001b[39;00m:\n\u001b[1;32m    690\u001b[0m     \u001b[39m# Make sure this isn't information that the front-end just sent us.\u001b[39;00m\n\u001b[1;32m    691\u001b[0m     \u001b[39mif\u001b[39;00m name \u001b[39min\u001b[39;00m \u001b[39mself\u001b[39m\u001b[39m.\u001b[39mkeys \u001b[39mand\u001b[39;00m \u001b[39mself\u001b[39m\u001b[39m.\u001b[39m_should_send_property(name, \u001b[39mgetattr\u001b[39m(\u001b[39mself\u001b[39m, name)):\n\u001b[1;32m    692\u001b[0m         \u001b[39m# Send new state to front-end\u001b[39;00m\n\u001b[0;32m--> 693\u001b[0m         \u001b[39mself\u001b[39;49m\u001b[39m.\u001b[39;49msend_state(key\u001b[39m=\u001b[39;49mname)\n\u001b[1;32m    694\u001b[0m \u001b[39msuper\u001b[39m()\u001b[39m.\u001b[39mnotify_change(change)\n",
      "File \u001b[0;32m~/anaconda3/envs/nightly-env/lib/python3.10/site-packages/ipywidgets/widgets/widget.py:579\u001b[0m, in \u001b[0;36mWidget.send_state\u001b[0;34m(self, key)\u001b[0m\n\u001b[1;32m    577\u001b[0m state, buffer_paths, buffers \u001b[39m=\u001b[39m _remove_buffers(state)\n\u001b[1;32m    578\u001b[0m msg \u001b[39m=\u001b[39m {\u001b[39m'\u001b[39m\u001b[39mmethod\u001b[39m\u001b[39m'\u001b[39m: \u001b[39m'\u001b[39m\u001b[39mupdate\u001b[39m\u001b[39m'\u001b[39m, \u001b[39m'\u001b[39m\u001b[39mstate\u001b[39m\u001b[39m'\u001b[39m: state, \u001b[39m'\u001b[39m\u001b[39mbuffer_paths\u001b[39m\u001b[39m'\u001b[39m: buffer_paths}\n\u001b[0;32m--> 579\u001b[0m \u001b[39mself\u001b[39;49m\u001b[39m.\u001b[39;49m_send(msg, buffers\u001b[39m=\u001b[39;49mbuffers)\n",
      "File \u001b[0;32m~/anaconda3/envs/nightly-env/lib/python3.10/site-packages/ipywidgets/widgets/widget.py:818\u001b[0m, in \u001b[0;36mWidget._send\u001b[0;34m(self, msg, buffers)\u001b[0m\n\u001b[1;32m    816\u001b[0m \u001b[39m\"\"\"Sends a message to the model in the front-end.\"\"\"\u001b[39;00m\n\u001b[1;32m    817\u001b[0m \u001b[39mif\u001b[39;00m \u001b[39mself\u001b[39m\u001b[39m.\u001b[39mcomm \u001b[39mis\u001b[39;00m \u001b[39mnot\u001b[39;00m \u001b[39mNone\u001b[39;00m \u001b[39mand\u001b[39;00m \u001b[39mself\u001b[39m\u001b[39m.\u001b[39mcomm\u001b[39m.\u001b[39mkernel \u001b[39mis\u001b[39;00m \u001b[39mnot\u001b[39;00m \u001b[39mNone\u001b[39;00m:\n\u001b[0;32m--> 818\u001b[0m     \u001b[39mself\u001b[39;49m\u001b[39m.\u001b[39;49mcomm\u001b[39m.\u001b[39;49msend(data\u001b[39m=\u001b[39;49mmsg, buffers\u001b[39m=\u001b[39;49mbuffers)\n",
      "File \u001b[0;32m~/.local/lib/python3.10/site-packages/comm/base_comm.py:113\u001b[0m, in \u001b[0;36mBaseComm.send\u001b[0;34m(self, data, metadata, buffers)\u001b[0m\n\u001b[1;32m    111\u001b[0m \u001b[39mdef\u001b[39;00m \u001b[39msend\u001b[39m(\u001b[39mself\u001b[39m, data\u001b[39m=\u001b[39m\u001b[39mNone\u001b[39;00m, metadata\u001b[39m=\u001b[39m\u001b[39mNone\u001b[39;00m, buffers\u001b[39m=\u001b[39m\u001b[39mNone\u001b[39;00m):\n\u001b[1;32m    112\u001b[0m     \u001b[39m\"\"\"Send a message to the frontend-side version of this comm\"\"\"\u001b[39;00m\n\u001b[0;32m--> 113\u001b[0m     \u001b[39mself\u001b[39;49m\u001b[39m.\u001b[39;49mpublish_msg(\n\u001b[1;32m    114\u001b[0m         \u001b[39m\"\u001b[39;49m\u001b[39mcomm_msg\u001b[39;49m\u001b[39m\"\u001b[39;49m,\n\u001b[1;32m    115\u001b[0m         data\u001b[39m=\u001b[39;49mdata,\n\u001b[1;32m    116\u001b[0m         metadata\u001b[39m=\u001b[39;49mmetadata,\n\u001b[1;32m    117\u001b[0m         buffers\u001b[39m=\u001b[39;49mbuffers,\n\u001b[1;32m    118\u001b[0m     )\n",
      "File \u001b[0;32m~/.local/lib/python3.10/site-packages/ipykernel/comm/comm.py:33\u001b[0m, in \u001b[0;36mBaseComm.publish_msg\u001b[0;34m(self, msg_type, data, metadata, buffers, **keys)\u001b[0m\n\u001b[1;32m     30\u001b[0m \u001b[39mif\u001b[39;00m \u001b[39mself\u001b[39m\u001b[39m.\u001b[39mkernel \u001b[39mis\u001b[39;00m \u001b[39mNone\u001b[39;00m:\n\u001b[1;32m     31\u001b[0m     \u001b[39mself\u001b[39m\u001b[39m.\u001b[39mkernel \u001b[39m=\u001b[39m Kernel\u001b[39m.\u001b[39minstance()\n\u001b[0;32m---> 33\u001b[0m \u001b[39mself\u001b[39;49m\u001b[39m.\u001b[39;49mkernel\u001b[39m.\u001b[39;49msession\u001b[39m.\u001b[39;49msend(\n\u001b[1;32m     34\u001b[0m     \u001b[39mself\u001b[39;49m\u001b[39m.\u001b[39;49mkernel\u001b[39m.\u001b[39;49miopub_socket,\n\u001b[1;32m     35\u001b[0m     msg_type,\n\u001b[1;32m     36\u001b[0m     content,\n\u001b[1;32m     37\u001b[0m     metadata\u001b[39m=\u001b[39;49mjson_clean(metadata),\n\u001b[1;32m     38\u001b[0m     parent\u001b[39m=\u001b[39;49m\u001b[39mself\u001b[39;49m\u001b[39m.\u001b[39;49mkernel\u001b[39m.\u001b[39;49mget_parent(\u001b[39m\"\u001b[39;49m\u001b[39mshell\u001b[39;49m\u001b[39m\"\u001b[39;49m),\n\u001b[1;32m     39\u001b[0m     ident\u001b[39m=\u001b[39;49m\u001b[39mself\u001b[39;49m\u001b[39m.\u001b[39;49mtopic,\n\u001b[1;32m     40\u001b[0m     buffers\u001b[39m=\u001b[39;49mbuffers,\n\u001b[1;32m     41\u001b[0m )\n",
      "File \u001b[0;32m~/.local/lib/python3.10/site-packages/jupyter_client/session.py:859\u001b[0m, in \u001b[0;36mSession.send\u001b[0;34m(self, stream, msg_or_type, content, parent, ident, buffers, track, header, metadata)\u001b[0m\n\u001b[1;32m    856\u001b[0m \u001b[39melif\u001b[39;00m stream:\n\u001b[1;32m    857\u001b[0m     \u001b[39m# use dummy tracker, which will be done immediately\u001b[39;00m\n\u001b[1;32m    858\u001b[0m     tracker \u001b[39m=\u001b[39m DONE\n\u001b[0;32m--> 859\u001b[0m     stream\u001b[39m.\u001b[39;49msend_multipart(to_send, copy\u001b[39m=\u001b[39;49mcopy)\n\u001b[1;32m    861\u001b[0m \u001b[39mif\u001b[39;00m \u001b[39mself\u001b[39m\u001b[39m.\u001b[39mdebug:\n\u001b[1;32m    862\u001b[0m     pprint\u001b[39m.\u001b[39mpprint(msg)\n",
      "File \u001b[0;32m~/.local/lib/python3.10/site-packages/ipykernel/iostream.py:286\u001b[0m, in \u001b[0;36mBackgroundSocket.send_multipart\u001b[0;34m(self, *args, **kwargs)\u001b[0m\n\u001b[1;32m    284\u001b[0m \u001b[39m\"\"\"Schedule send in IO thread\"\"\"\u001b[39;00m\n\u001b[1;32m    285\u001b[0m \u001b[39massert\u001b[39;00m \u001b[39mself\u001b[39m\u001b[39m.\u001b[39mio_thread \u001b[39mis\u001b[39;00m \u001b[39mnot\u001b[39;00m \u001b[39mNone\u001b[39;00m\n\u001b[0;32m--> 286\u001b[0m \u001b[39mreturn\u001b[39;00m \u001b[39mself\u001b[39;49m\u001b[39m.\u001b[39;49mio_thread\u001b[39m.\u001b[39;49msend_multipart(\u001b[39m*\u001b[39;49margs, \u001b[39m*\u001b[39;49m\u001b[39m*\u001b[39;49mkwargs)\n",
      "File \u001b[0;32m~/.local/lib/python3.10/site-packages/ipykernel/iostream.py:219\u001b[0m, in \u001b[0;36mIOPubThread.send_multipart\u001b[0;34m(self, *args, **kwargs)\u001b[0m\n\u001b[1;32m    214\u001b[0m \u001b[39mdef\u001b[39;00m \u001b[39msend_multipart\u001b[39m(\u001b[39mself\u001b[39m, \u001b[39m*\u001b[39margs, \u001b[39m*\u001b[39m\u001b[39m*\u001b[39mkwargs):\n\u001b[1;32m    215\u001b[0m     \u001b[39m\"\"\"send_multipart schedules actual zmq send in my thread.\u001b[39;00m\n\u001b[1;32m    216\u001b[0m \n\u001b[1;32m    217\u001b[0m \u001b[39m    If my thread isn't running (e.g. forked process), send immediately.\u001b[39;00m\n\u001b[1;32m    218\u001b[0m \u001b[39m    \"\"\"\u001b[39;00m\n\u001b[0;32m--> 219\u001b[0m     \u001b[39mself\u001b[39;49m\u001b[39m.\u001b[39;49mschedule(\u001b[39mlambda\u001b[39;49;00m: \u001b[39mself\u001b[39;49m\u001b[39m.\u001b[39;49m_really_send(\u001b[39m*\u001b[39;49margs, \u001b[39m*\u001b[39;49m\u001b[39m*\u001b[39;49mkwargs))\n",
      "File \u001b[0;32m~/.local/lib/python3.10/site-packages/ipykernel/iostream.py:210\u001b[0m, in \u001b[0;36mIOPubThread.schedule\u001b[0;34m(self, f)\u001b[0m\n\u001b[1;32m    208\u001b[0m     \u001b[39mself\u001b[39m\u001b[39m.\u001b[39m_events\u001b[39m.\u001b[39mappend(f)\n\u001b[1;32m    209\u001b[0m     \u001b[39m# wake event thread (message content is ignored)\u001b[39;00m\n\u001b[0;32m--> 210\u001b[0m     \u001b[39mself\u001b[39;49m\u001b[39m.\u001b[39;49m_event_pipe\u001b[39m.\u001b[39;49msend(\u001b[39mb\u001b[39;49m\u001b[39m\"\u001b[39;49m\u001b[39m\"\u001b[39;49m)\n\u001b[1;32m    211\u001b[0m \u001b[39melse\u001b[39;00m:\n\u001b[1;32m    212\u001b[0m     f()\n",
      "File \u001b[0;32m~/.local/lib/python3.10/site-packages/zmq/sugar/socket.py:620\u001b[0m, in \u001b[0;36mSocket.send\u001b[0;34m(self, data, flags, copy, track, routing_id, group)\u001b[0m\n\u001b[1;32m    613\u001b[0m         data \u001b[39m=\u001b[39m zmq\u001b[39m.\u001b[39mFrame(\n\u001b[1;32m    614\u001b[0m             data,\n\u001b[1;32m    615\u001b[0m             track\u001b[39m=\u001b[39mtrack,\n\u001b[1;32m    616\u001b[0m             copy\u001b[39m=\u001b[39mcopy \u001b[39mor\u001b[39;00m \u001b[39mNone\u001b[39;00m,\n\u001b[1;32m    617\u001b[0m             copy_threshold\u001b[39m=\u001b[39m\u001b[39mself\u001b[39m\u001b[39m.\u001b[39mcopy_threshold,\n\u001b[1;32m    618\u001b[0m         )\n\u001b[1;32m    619\u001b[0m     data\u001b[39m.\u001b[39mgroup \u001b[39m=\u001b[39m group\n\u001b[0;32m--> 620\u001b[0m \u001b[39mreturn\u001b[39;00m \u001b[39msuper\u001b[39;49m()\u001b[39m.\u001b[39;49msend(data, flags\u001b[39m=\u001b[39;49mflags, copy\u001b[39m=\u001b[39;49mcopy, track\u001b[39m=\u001b[39;49mtrack)\n",
      "File \u001b[0;32mzmq/backend/cython/socket.pyx:746\u001b[0m, in \u001b[0;36mzmq.backend.cython.socket.Socket.send\u001b[0;34m()\u001b[0m\n",
      "File \u001b[0;32mzmq/backend/cython/socket.pyx:793\u001b[0m, in \u001b[0;36mzmq.backend.cython.socket.Socket.send\u001b[0;34m()\u001b[0m\n",
      "File \u001b[0;32mzmq/backend/cython/socket.pyx:250\u001b[0m, in \u001b[0;36mzmq.backend.cython.socket._send_copy\u001b[0;34m()\u001b[0m\n",
      "File \u001b[0;32m~/.local/lib/python3.10/site-packages/zmq/backend/cython/checkrc.pxd:13\u001b[0m, in \u001b[0;36mzmq.backend.cython.checkrc._check_rc\u001b[0;34m()\u001b[0m\n",
      "\u001b[0;31mKeyboardInterrupt\u001b[0m: "
     ]
    }
   ],
   "source": [
    "# Train report\n",
    "train_profile = ProfileReport(\n",
    "    train, \n",
    "    title=\"EDA report for training dataset\",\n",
    "    correlations={\n",
    "        \"phi_k\": {\"calculate\": True},\n",
    "    },\n",
    "    )\n",
    "train_profile.to_notebook_iframe()\n",
    "train_profile.to_file(\"../reports/train_dataframe_eda.html\")"
   ]
  },
  {
   "cell_type": "code",
   "execution_count": null,
   "metadata": {},
   "outputs": [],
   "source": [
    "# Test report\n",
    "\n",
    "test_profile = ProfileReport(\n",
    "    test, \n",
    "    title=\"EDA report for test dataset\",\n",
    "    correlations={\n",
    "        \"phi_k\": {\"calculate\": True},\n",
    "        },\n",
    "    )\n",
    "test_profile.to_notebook_iframe()\n",
    "#train_profile.to_widgets()\n",
    "test_profile.to_file(\"../reports/test_dataframe_eda.html\")"
   ]
  },
  {
   "cell_type": "code",
   "execution_count": null,
   "metadata": {},
   "outputs": [],
   "source": [
    "# Comparison of test and train reports\n",
    "comparison_report = train_profile.compare(test_profile)\n",
    "comparison_report.to_file(\"comparison.html\")"
   ]
  },
  {
   "attachments": {},
   "cell_type": "markdown",
   "metadata": {},
   "source": [
    "### Key concludions"
   ]
  },
  {
   "attachments": {},
   "cell_type": "markdown",
   "metadata": {},
   "source": [
    "The target variable, sale price, reveals a right-skewed distribution. This indicates that a small proportion of data points exhibit a much higher value compared to the majority of the observations. This can be visualized in the histogram, where the peak is inclined towards the left, and there is a long tail towards the right. The right-skewness implies that the house prices are not normally distributed, as it deviates from the bell-shaped curve. Such deviation can have an impact on the results of certain statistical methods.\n",
    "\n",
    "It is acknowledged that skewness in real-world data is not an uncommon phenomenon. To mitigate the effect of skewness, various mathematical techniques, such as power transforms, including logarithmic, square root, and reciprocal transformations, can be applied to the data to make it conform to a normal distribution."
   ]
  },
  {
   "attachments": {},
   "cell_type": "markdown",
   "metadata": {},
   "source": [
    "The dataset is heterogeneous, comprising both numeric and categorical data types. In total, the dataset comprises 79 features and 1460 samples. However, it should be noted that certain features within the dataset have missing values."
   ]
  },
  {
   "attachments": {},
   "cell_type": "markdown",
   "metadata": {},
   "source": [
    "A key observation is that some features appears to exhibit high levels of correlation, which raises concerns regarding multicollinearity. Multicollinearity refers to the scenario where two or more predictor variables are highly correlated, and as a result decrease models stability. This will be examined in further sections of this notebook.\n",
    "\n",
    "Furthermore, some features may have low variance, indicating that the values for these features do not vary significantly across the dataset. These features may not contribute new information and their presence will not improve predictive power. "
   ]
  },
  {
   "attachments": {},
   "cell_type": "markdown",
   "metadata": {},
   "source": [
    "Many of the numerical features are represented with integer values, which means that these features can be divided into continuous and discrete categories. It is important to note that some features, such as OverallQl, have been pre-encoded as ordinal object features."
   ]
  },
  {
   "attachments": {},
   "cell_type": "markdown",
   "metadata": {},
   "source": [
    "Similar conclusions can be drawn when examining the categorical variables in the dataset; some exhibit skewness, while others have low variance."
   ]
  },
  {
   "attachments": {},
   "cell_type": "markdown",
   "metadata": {},
   "source": [
    "#### Detailed look at missing values"
   ]
  },
  {
   "cell_type": "code",
   "execution_count": null,
   "metadata": {},
   "outputs": [],
   "source": [
    "missing = train.isnull().sum()\n",
    "missing = missing[missing > 0]\n",
    "missing.plot.bar()\n",
    "plt.xlabel(\"Features\")\n",
    "plt.ylabel(\"Number of missing values\")\n",
    "plt.title(\"Missing values\")\n",
    "plt.show()"
   ]
  },
  {
   "cell_type": "code",
   "execution_count": null,
   "metadata": {},
   "outputs": [],
   "source": [
    "numerical_data.loc[:,numerical_data.isnull().sum()>0].head(5)"
   ]
  },
  {
   "cell_type": "code",
   "execution_count": null,
   "metadata": {},
   "outputs": [],
   "source": [
    "train[nominal].loc[:,train[nominal].isnull().sum()>0].head(5)"
   ]
  },
  {
   "cell_type": "code",
   "execution_count": null,
   "metadata": {},
   "outputs": [],
   "source": [
    "train[ordinal].loc[:,train[ordinal].isnull().sum()>0].head(5)"
   ]
  },
  {
   "attachments": {},
   "cell_type": "markdown",
   "metadata": {},
   "source": [
    "It can be inferred that the majority of missing values observed in the dataset are a result of the absence of the respective feature in the given sample. This is evident in the case of numeric and nominal variables such as 'LotFrontage', 'MasVnrArea', 'GarageYrBlt' 'Alley', 'MasVnrType','GarageType', 'MiscFeature, as well as for ordinal variables such as 'BsmtQual', 'BsmtCond', 'BsmtExposure', 'BsmtFinType1', 'BsmtFinType2'. However, the missing value for one row in the variable 'Electrical' is peculiar and would require further examination or exclusion of this sample."
   ]
  },
  {
   "cell_type": "code",
   "execution_count": null,
   "metadata": {},
   "outputs": [],
   "source": [
    "discrete = ['YearBuilt', 'YearRemodAdd','BsmtFullBath', 'BsmtHalfBath', 'FullBath', 'HalfBath',\n",
    "            'BedroomAbvGr', 'KitchenAbvGr','TotRmsAbvGrd','Fireplaces', 'GarageYrBlt','GarageCars', \n",
    "             'OverallQual', 'OverallCond']\n",
    "\n",
    "continuous = ['LotFrontage', 'LotArea','MasVnrArea','BsmtFinSF1',  'BsmtFinSF2', 'BsmtUnfSF', \n",
    "              'TotalBsmtSF','1stFlrSF', '2ndFlrSF', 'LowQualFinSF','GrLivArea', 'GarageArea',  \n",
    "              'WoodDeckSF', 'OpenPorchSF', 'EnclosedPorch','ScreenPorch', 'PoolArea' \n",
    "              ]\n",
    "\n",
    "nominal = ['MSSubClass','MSZoning', 'Street', 'Alley',  'LandContour','LotConfig',   'Neighborhood', \n",
    "           'Condition1', 'Condition2', 'BldgType', 'HouseStyle','RoofStyle','RoofMatl', 'Exterior1st',\n",
    "           'Exterior2nd', 'MasVnrType',  'Foundation','Heating',  'CentralAir',  'GarageType',\n",
    "           'SaleType', 'SaleCondition']\n",
    "\n",
    "ordinal = ['LotShape', 'LandSlope', 'Utilities',   'ExterQual', 'ExterCond', 'BsmtQual', 'BsmtCond',\n",
    "           'BsmtExposure', 'BsmtFinType1', 'BsmtFinType2','HeatingQC', 'Electrical','KitchenQual', \n",
    "           'Functional','FireplaceQu', 'GarageFinish', 'GarageQual','GarageCond','PavedDrive', \n",
    "           'PoolQC', 'Fence']\n",
    "\n",
    "#potentially\n",
    "\n",
    "drop = ['Id', 'Street', 'Utilities',\"Condition2\", '3SsnPorch','MiscFeature','MiscVal', 'MoSold', 'YrSold'], \n",
    "\n",
    "pca = ['LandContour', 'LandSlope', \"Neighborhood\"]\n",
    "\n",
    "pca = ['RoofStyle','RoofMatl']\n",
    "\n",
    "pca = ['BsmtQual','BsmtCond','BsmtExposure','BsmtFinType1','BsmtUnfSF']\n",
    "\n",
    "pca = ['Condition1', 'Condition2',]\n",
    "\n",
    "impute_most_frequent = ['Electrical']\n",
    "\n",
    "\n",
    "ply = ['BsmtFinSF1', 'TotalBsmtSF', '1stFlrSF', 'GrLivArea', 'GarageArea']"
   ]
  }
 ],
 "metadata": {
  "kernelspec": {
   "display_name": "nightly-env",
   "language": "python",
   "name": "python3"
  },
  "language_info": {
   "codemirror_mode": {
    "name": "ipython",
    "version": 3
   },
   "file_extension": ".py",
   "mimetype": "text/x-python",
   "name": "python",
   "nbconvert_exporter": "python",
   "pygments_lexer": "ipython3",
   "version": "3.10.8 | packaged by conda-forge | (main, Nov 22 2022, 08:26:04) [GCC 10.4.0]"
  },
  "orig_nbformat": 4,
  "vscode": {
   "interpreter": {
    "hash": "191a0500f25484430c7aad1a9323aeb602c32d6171746e97eb0830e5c8b0f62c"
   }
  }
 },
 "nbformat": 4,
 "nbformat_minor": 2
}
