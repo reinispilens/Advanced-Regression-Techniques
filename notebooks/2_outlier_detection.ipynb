{
 "cells": [
  {
   "attachments": {},
   "cell_type": "markdown",
   "metadata": {},
   "source": [
    "Goal of this notebook is to construct data model to separate outliers form normal data and noise."
   ]
  },
  {
   "cell_type": "code",
   "execution_count": 4,
   "metadata": {},
   "outputs": [],
   "source": [
    "import pandas as pd\n",
    "import numpy as np\n",
    "import scipy as sp"
   ]
  },
  {
   "cell_type": "code",
   "execution_count": 5,
   "metadata": {},
   "outputs": [],
   "source": [
    "from pathlib import Path\n",
    "from src.preprocessor import preprocessor\n",
    "\n",
    "# Read data\n",
    "data_dir = Path(\"C:/Users/reini/Documents/GitHub/Advanced-Regression-Techniques/data\")\n",
    "train_df = pd.read_csv(data_dir / \"train.csv\")\n",
    "test_df = pd.read_csv(data_dir / \"test.csv\")\n",
    "\n",
    "# Separate target form predictors\n",
    "dfx = train_df.copy()\n",
    "label = dfx.pop(\"SalePrice\")\n",
    "\n",
    "# Apply preprocessor \n",
    "X = pd.DataFrame(preprocessor.fit_transform(dfx))"
   ]
  },
  {
   "cell_type": "code",
   "execution_count": 6,
   "metadata": {},
   "outputs": [],
   "source": [
    "from sklearn.covariance import EllipticEnvelope\n",
    "from sklearn.ensemble import IsolationForest\n",
    "from sklearn.neighbors import LocalOutlierFactor\n",
    "from sklearn.pipeline import make_pipeline\n",
    "from sklearn.feature_selection import SelectFromModel\n",
    "from sklearn.linear_model import LassoCV, RidgeCV\n",
    "from sklearn.compose import TransformedTargetRegressor\n",
    "\n",
    "# Set outlier fraction\n",
    "outliers_fraction = 0.05\n",
    "\n",
    "# Algorithms to evaluate\n",
    "anomaly_algorithms = [\n",
    "    (\"Robust covariance\", EllipticEnvelope(contamination=outliers_fraction)),\n",
    "    (\"Isolation Forest\", IsolationForest(contamination=outliers_fraction, random_state=42)),\n",
    "    (\"Local Outlier Factor\", LocalOutlierFactor(n_neighbors=35, contamination=outliers_fraction,novelty=True)),\n",
    "]\n",
    "\n",
    "# Baseline model\n",
    "lr_pipeline = make_pipeline(\n",
    "    SelectFromModel(LassoCV()),\n",
    "    TransformedTargetRegressor(\n",
    "        regressor=RidgeCV(), \n",
    "        func=np.log10, \n",
    "        inverse_func=sp.special.exp10\n",
    "    )\n",
    ")"
   ]
  },
  {
   "cell_type": "code",
   "execution_count": 7,
   "metadata": {},
   "outputs": [
    {
     "name": "stderr",
     "output_type": "stream",
     "text": [
      "C:\\Users\\reini\\AppData\\Local\\Temp\\ipykernel_19776\\1416748850.py:7: FutureWarning: The frame.append method is deprecated and will be removed from pandas in a future version. Use pandas.concat instead.\n",
      "  results_df = results_df.append({\"Algorithm\": \"Simple Linear Regression\", \"MSE\": mse}, ignore_index=True)\n",
      "c:\\Users\\reini\\miniconda3\\lib\\site-packages\\sklearn\\covariance\\_robust_covariance.py:745: UserWarning: The covariance matrix associated to your dataset is not full rank\n",
      "  warnings.warn(\n",
      "C:\\Users\\reini\\AppData\\Local\\Temp\\ipykernel_19776\\1416748850.py:20: FutureWarning: The frame.append method is deprecated and will be removed from pandas in a future version. Use pandas.concat instead.\n",
      "  results_df = results_df.append({\"Algorithm\": name, \"MSE\": mse, \"Inliers Shape\": X[inliers].shape, \"Inliers\":X[inliers], \"Outliers\": X[~inliers].index}, ignore_index=True)\n",
      "C:\\Users\\reini\\AppData\\Local\\Temp\\ipykernel_19776\\1416748850.py:20: FutureWarning: The frame.append method is deprecated and will be removed from pandas in a future version. Use pandas.concat instead.\n",
      "  results_df = results_df.append({\"Algorithm\": name, \"MSE\": mse, \"Inliers Shape\": X[inliers].shape, \"Inliers\":X[inliers], \"Outliers\": X[~inliers].index}, ignore_index=True)\n",
      "C:\\Users\\reini\\AppData\\Local\\Temp\\ipykernel_19776\\1416748850.py:20: FutureWarning: The frame.append method is deprecated and will be removed from pandas in a future version. Use pandas.concat instead.\n",
      "  results_df = results_df.append({\"Algorithm\": name, \"MSE\": mse, \"Inliers Shape\": X[inliers].shape, \"Inliers\":X[inliers], \"Outliers\": X[~inliers].index}, ignore_index=True)\n"
     ]
    },
    {
     "data": {
      "text/html": [
       "<div>\n",
       "<style scoped>\n",
       "    .dataframe tbody tr th:only-of-type {\n",
       "        vertical-align: middle;\n",
       "    }\n",
       "\n",
       "    .dataframe tbody tr th {\n",
       "        vertical-align: top;\n",
       "    }\n",
       "\n",
       "    .dataframe thead th {\n",
       "        text-align: right;\n",
       "    }\n",
       "</style>\n",
       "<table border=\"1\" class=\"dataframe\">\n",
       "  <thead>\n",
       "    <tr style=\"text-align: right;\">\n",
       "      <th></th>\n",
       "      <th>Algorithm</th>\n",
       "      <th>MSE</th>\n",
       "      <th>Inliers Shape</th>\n",
       "      <th>Inliers</th>\n",
       "      <th>Outliers</th>\n",
       "    </tr>\n",
       "  </thead>\n",
       "  <tbody>\n",
       "    <tr>\n",
       "      <th>0</th>\n",
       "      <td>Simple Linear Regression</td>\n",
       "      <td>4.860369e+08</td>\n",
       "      <td>NaN</td>\n",
       "      <td>NaN</td>\n",
       "      <td>NaN</td>\n",
       "    </tr>\n",
       "    <tr>\n",
       "      <th>1</th>\n",
       "      <td>Robust covariance</td>\n",
       "      <td>3.211496e+08</td>\n",
       "      <td>(1387, 236)</td>\n",
       "      <td>0         1         2         3    ...</td>\n",
       "      <td>Int64Index([  17,   39,   54,   88,   90,  102...</td>\n",
       "    </tr>\n",
       "    <tr>\n",
       "      <th>2</th>\n",
       "      <td>Isolation Forest</td>\n",
       "      <td>2.787941e+08</td>\n",
       "      <td>(1387, 236)</td>\n",
       "      <td>0         1         2         3    ...</td>\n",
       "      <td>Int64Index([  39,   48,   87,   88,  125,  178...</td>\n",
       "    </tr>\n",
       "    <tr>\n",
       "      <th>3</th>\n",
       "      <td>Local Outlier Factor</td>\n",
       "      <td>2.884932e+08</td>\n",
       "      <td>(1392, 236)</td>\n",
       "      <td>0         1         2         3    ...</td>\n",
       "      <td>Int64Index([  70,  113,  159,  170,  178,  185...</td>\n",
       "    </tr>\n",
       "  </tbody>\n",
       "</table>\n",
       "</div>"
      ],
      "text/plain": [
       "                  Algorithm           MSE Inliers Shape  \\\n",
       "0  Simple Linear Regression  4.860369e+08           NaN   \n",
       "1         Robust covariance  3.211496e+08   (1387, 236)   \n",
       "2          Isolation Forest  2.787941e+08   (1387, 236)   \n",
       "3      Local Outlier Factor  2.884932e+08   (1392, 236)   \n",
       "\n",
       "                                             Inliers  \\\n",
       "0                                                NaN   \n",
       "1             0         1         2         3    ...   \n",
       "2             0         1         2         3    ...   \n",
       "3             0         1         2         3    ...   \n",
       "\n",
       "                                            Outliers  \n",
       "0                                                NaN  \n",
       "1  Int64Index([  17,   39,   54,   88,   90,  102...  \n",
       "2  Int64Index([  39,   48,   87,   88,  125,  178...  \n",
       "3  Int64Index([  70,  113,  159,  170,  178,  185...  "
      ]
     },
     "execution_count": 7,
     "metadata": {},
     "output_type": "execute_result"
    }
   ],
   "source": [
    "from sklearn.metrics import mean_squared_error\n",
    "\n",
    "results_df = pd.DataFrame(columns=[\"Algorithm\", \"MSE\"])\n",
    "\n",
    "# Fit baseline\n",
    "lr_pipeline.fit(X, label)\n",
    "y_pred = lr_pipeline.predict(X)\n",
    "mse = mean_squared_error(label, y_pred)\n",
    "results_df = results_df.append({\"Algorithm\": \"Simple Linear Regression\", \"MSE\": mse}, ignore_index=True)\n",
    "\n",
    "# iteratively fit anomaly detection algorithms and evaluate effect on model\n",
    "for name, algorithm in anomaly_algorithms:\n",
    "    # Extract the samples that are considered inliers (not anomalies)\n",
    "    algorithm.fit(X)\n",
    "    anomaly_scores = algorithm.decision_function(X)\n",
    "    inliers = anomaly_scores > 0\n",
    "\n",
    "    # Fit the linear regression pipeline to the inlier samples\n",
    "    lr_pipeline.fit(X[inliers], label[inliers])\n",
    "    y_pred = lr_pipeline.predict(X[inliers])\n",
    "    mse = mean_squared_error(label[inliers], y_pred)\n",
    "    results_df = results_df.append({\"Algorithm\": name, \"MSE\": mse, \"Inliers Shape\": X[inliers].shape, \"Inliers\":X[inliers], \"Outliers\": X[~inliers].index}, ignore_index=True)\n",
    "results_df"
   ]
  },
  {
   "cell_type": "code",
   "execution_count": 8,
   "metadata": {},
   "outputs": [
    {
     "data": {
      "text/plain": [
       "Int64Index([  39,   48,   87,   88,  125,  178,  185,  197,  198,  250,  291,\n",
       "             307,  335,  349,  375,  386,  431,  434,  440,  496,  515,  520,\n",
       "             523,  533,  581,  614,  635,  636,  649,  664,  691,  705,  738,\n",
       "             747,  769,  778,  798,  803,  825,  828,  843,  897,  898,  914,\n",
       "             921,  942,  954,  977, 1011, 1030, 1061, 1142, 1169, 1173, 1181,\n",
       "            1182, 1219, 1228, 1230, 1234, 1243, 1268, 1283, 1298, 1323, 1326,\n",
       "            1337, 1349, 1373, 1386, 1387, 1423, 1449],\n",
       "           dtype='int64')"
      ]
     },
     "execution_count": 8,
     "metadata": {},
     "output_type": "execute_result"
    }
   ],
   "source": [
    "results_df[\"Outliers\"][2]"
   ]
  }
 ],
 "metadata": {
  "kernelspec": {
   "display_name": "base",
   "language": "python",
   "name": "python3"
  },
  "language_info": {
   "codemirror_mode": {
    "name": "ipython",
    "version": 3
   },
   "file_extension": ".py",
   "mimetype": "text/x-python",
   "name": "python",
   "nbconvert_exporter": "python",
   "pygments_lexer": "ipython3",
   "version": "3.10.8"
  },
  "orig_nbformat": 4,
  "vscode": {
   "interpreter": {
    "hash": "b45547512723ac4709c08bdd276af49db375effeefa4f15fbf5c13174536d90f"
   }
  }
 },
 "nbformat": 4,
 "nbformat_minor": 2
}
